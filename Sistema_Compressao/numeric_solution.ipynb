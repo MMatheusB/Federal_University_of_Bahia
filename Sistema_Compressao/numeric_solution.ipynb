{
 "cells": [
  {
   "cell_type": "code",
   "execution_count": null,
   "metadata": {},
   "outputs": [],
   "source": [
    "import scipy\n",
    "import numpy as np\n",
    "from scipy.integrate import odeint\n",
    "import matplotlib.pyplot as plt\n",
    "\n",
    "A1 = 2.6 * (10**-3)\n",
    "Lc = 2\n",
    "kv = 0.38\n",
    "P1 = 8.5\n",
    "P_out = 5\n",
    "\n",
    "def Valve_opening(t):\n",
    "    alpha = int\n",
    "    if t < 60 or 120 <= t < 180 or 240 <= t <= 300:\n",
    "        alpha = 0.5\n",
    "    elif 60 <= t < 120:\n",
    "        alpha = 0.46\n",
    "    elif 180 <= t < 240:\n",
    "        alpha = 0.54\n",
    "    return alpha\n",
    "\n",
    "\n",
    "def modelSystem(z, t):\n",
    "    x, y = z\n",
    "    dxdt = (A1/Lc)*((1.5 * P1) - y)\n",
    "    dydt = (C**2)/2 * (m - Valve_opening(t) * kv * np.sqrt(P - P_out))\n",
    "    return [dxdt, dydt]\n",
    "\n",
    "z0 = [0, 0]\n",
    "\n",
    "z = odeint(modelSystem, z0, t)\n",
    "\n",
    "plt.plot(t,z[:, 0], label = \"x(t)\")\n",
    "plt.plot(t, z[:, 1], label = \"y(t)\")\n",
    "plt.grid()\n",
    "plt.legend()\n",
    "plt.xlabel('t')\n",
    "plt.ylabel('z(t)')\n",
    "plt.show()"
   ]
  }
 ],
 "metadata": {
  "language_info": {
   "name": "python"
  }
 },
 "nbformat": 4,
 "nbformat_minor": 2
}
